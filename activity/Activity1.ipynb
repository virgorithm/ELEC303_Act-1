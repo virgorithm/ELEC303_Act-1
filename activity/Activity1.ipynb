{
 "cells": [
  {
   "cell_type": "markdown",
   "id": "f797a08e-c385-4923-81ed-1ee86abf8a76",
   "metadata": {},
   "source": [
    "<h1 style=\"font-size:20px;\"><strong>\n",
    "Activity 1: PALMER PENGUINS DATA ANALYTICS PROJECT\n",
    "</h1>\n"
   ]
  },
  {
   "cell_type": "markdown",
   "id": "18d033a6-b84b-4d95-91c2-d824811a2820",
   "metadata": {},
   "source": [
    "<strong>Analyst: Kristel Imari H. Calado"
   ]
  },
  {
   "cell_type": "code",
   "execution_count": 24,
   "id": "398b5532-ef31-4918-bad3-8d86d4b6d87a",
   "metadata": {},
   "outputs": [],
   "source": [
    "import numpy as np \n",
    "import pandas as pd\n",
    "import warnings\n",
    "warnings.filterwarnings('ignore')"
   ]
  },
  {
   "cell_type": "code",
   "execution_count": 25,
   "id": "83dad900-5731-4038-b7a0-458ae5f330b5",
   "metadata": {},
   "outputs": [
    {
     "data": {
      "text/html": [
       "<div>\n",
       "<style scoped>\n",
       "    .dataframe tbody tr th:only-of-type {\n",
       "        vertical-align: middle;\n",
       "    }\n",
       "\n",
       "    .dataframe tbody tr th {\n",
       "        vertical-align: top;\n",
       "    }\n",
       "\n",
       "    .dataframe thead th {\n",
       "        text-align: right;\n",
       "    }\n",
       "</style>\n",
       "<table border=\"1\" class=\"dataframe\">\n",
       "  <thead>\n",
       "    <tr style=\"text-align: right;\">\n",
       "      <th></th>\n",
       "      <th>rowid</th>\n",
       "      <th>species</th>\n",
       "      <th>island</th>\n",
       "      <th>bill_length_mm</th>\n",
       "      <th>bill_depth_mm</th>\n",
       "      <th>flipper_length_mm</th>\n",
       "      <th>body_mass_g</th>\n",
       "      <th>sex</th>\n",
       "      <th>year</th>\n",
       "    </tr>\n",
       "  </thead>\n",
       "  <tbody>\n",
       "    <tr>\n",
       "      <th>0</th>\n",
       "      <td>1</td>\n",
       "      <td>Adelie</td>\n",
       "      <td>Torgersen</td>\n",
       "      <td>39.1</td>\n",
       "      <td>18.7</td>\n",
       "      <td>181.0</td>\n",
       "      <td>3750.0</td>\n",
       "      <td>male</td>\n",
       "      <td>2007</td>\n",
       "    </tr>\n",
       "    <tr>\n",
       "      <th>1</th>\n",
       "      <td>2</td>\n",
       "      <td>Adelie</td>\n",
       "      <td>Torgersen</td>\n",
       "      <td>39.5</td>\n",
       "      <td>17.4</td>\n",
       "      <td>186.0</td>\n",
       "      <td>3800.0</td>\n",
       "      <td>female</td>\n",
       "      <td>2007</td>\n",
       "    </tr>\n",
       "    <tr>\n",
       "      <th>2</th>\n",
       "      <td>3</td>\n",
       "      <td>Adelie</td>\n",
       "      <td>Torgersen</td>\n",
       "      <td>40.3</td>\n",
       "      <td>18.0</td>\n",
       "      <td>195.0</td>\n",
       "      <td>3250.0</td>\n",
       "      <td>female</td>\n",
       "      <td>2007</td>\n",
       "    </tr>\n",
       "    <tr>\n",
       "      <th>3</th>\n",
       "      <td>4</td>\n",
       "      <td>Adelie</td>\n",
       "      <td>Torgersen</td>\n",
       "      <td>NaN</td>\n",
       "      <td>NaN</td>\n",
       "      <td>NaN</td>\n",
       "      <td>NaN</td>\n",
       "      <td>NaN</td>\n",
       "      <td>2007</td>\n",
       "    </tr>\n",
       "    <tr>\n",
       "      <th>4</th>\n",
       "      <td>5</td>\n",
       "      <td>Adelie</td>\n",
       "      <td>Torgersen</td>\n",
       "      <td>36.7</td>\n",
       "      <td>19.3</td>\n",
       "      <td>193.0</td>\n",
       "      <td>3450.0</td>\n",
       "      <td>female</td>\n",
       "      <td>2007</td>\n",
       "    </tr>\n",
       "    <tr>\n",
       "      <th>...</th>\n",
       "      <td>...</td>\n",
       "      <td>...</td>\n",
       "      <td>...</td>\n",
       "      <td>...</td>\n",
       "      <td>...</td>\n",
       "      <td>...</td>\n",
       "      <td>...</td>\n",
       "      <td>...</td>\n",
       "      <td>...</td>\n",
       "    </tr>\n",
       "    <tr>\n",
       "      <th>339</th>\n",
       "      <td>340</td>\n",
       "      <td>Chinstrap</td>\n",
       "      <td>Dream</td>\n",
       "      <td>55.8</td>\n",
       "      <td>19.8</td>\n",
       "      <td>207.0</td>\n",
       "      <td>4000.0</td>\n",
       "      <td>male</td>\n",
       "      <td>2009</td>\n",
       "    </tr>\n",
       "    <tr>\n",
       "      <th>340</th>\n",
       "      <td>341</td>\n",
       "      <td>Chinstrap</td>\n",
       "      <td>Dream</td>\n",
       "      <td>43.5</td>\n",
       "      <td>18.1</td>\n",
       "      <td>202.0</td>\n",
       "      <td>3400.0</td>\n",
       "      <td>female</td>\n",
       "      <td>2009</td>\n",
       "    </tr>\n",
       "    <tr>\n",
       "      <th>341</th>\n",
       "      <td>342</td>\n",
       "      <td>Chinstrap</td>\n",
       "      <td>Dream</td>\n",
       "      <td>49.6</td>\n",
       "      <td>18.2</td>\n",
       "      <td>193.0</td>\n",
       "      <td>3775.0</td>\n",
       "      <td>male</td>\n",
       "      <td>2009</td>\n",
       "    </tr>\n",
       "    <tr>\n",
       "      <th>342</th>\n",
       "      <td>343</td>\n",
       "      <td>Chinstrap</td>\n",
       "      <td>Dream</td>\n",
       "      <td>50.8</td>\n",
       "      <td>19.0</td>\n",
       "      <td>210.0</td>\n",
       "      <td>4100.0</td>\n",
       "      <td>male</td>\n",
       "      <td>2009</td>\n",
       "    </tr>\n",
       "    <tr>\n",
       "      <th>343</th>\n",
       "      <td>344</td>\n",
       "      <td>Chinstrap</td>\n",
       "      <td>Dream</td>\n",
       "      <td>50.2</td>\n",
       "      <td>18.7</td>\n",
       "      <td>198.0</td>\n",
       "      <td>3775.0</td>\n",
       "      <td>female</td>\n",
       "      <td>2009</td>\n",
       "    </tr>\n",
       "  </tbody>\n",
       "</table>\n",
       "<p>344 rows × 9 columns</p>\n",
       "</div>"
      ],
      "text/plain": [
       "     rowid    species     island  bill_length_mm  bill_depth_mm  \\\n",
       "0        1     Adelie  Torgersen            39.1           18.7   \n",
       "1        2     Adelie  Torgersen            39.5           17.4   \n",
       "2        3     Adelie  Torgersen            40.3           18.0   \n",
       "3        4     Adelie  Torgersen             NaN            NaN   \n",
       "4        5     Adelie  Torgersen            36.7           19.3   \n",
       "..     ...        ...        ...             ...            ...   \n",
       "339    340  Chinstrap      Dream            55.8           19.8   \n",
       "340    341  Chinstrap      Dream            43.5           18.1   \n",
       "341    342  Chinstrap      Dream            49.6           18.2   \n",
       "342    343  Chinstrap      Dream            50.8           19.0   \n",
       "343    344  Chinstrap      Dream            50.2           18.7   \n",
       "\n",
       "     flipper_length_mm  body_mass_g     sex  year  \n",
       "0                181.0       3750.0    male  2007  \n",
       "1                186.0       3800.0  female  2007  \n",
       "2                195.0       3250.0  female  2007  \n",
       "3                  NaN          NaN     NaN  2007  \n",
       "4                193.0       3450.0  female  2007  \n",
       "..                 ...          ...     ...   ...  \n",
       "339              207.0       4000.0    male  2009  \n",
       "340              202.0       3400.0  female  2009  \n",
       "341              193.0       3775.0    male  2009  \n",
       "342              210.0       4100.0    male  2009  \n",
       "343              198.0       3775.0  female  2009  \n",
       "\n",
       "[344 rows x 9 columns]"
      ]
     },
     "execution_count": 25,
     "metadata": {},
     "output_type": "execute_result"
    }
   ],
   "source": [
    "data = pd.read_csv('penguins.csv')\n",
    "data"
   ]
  },
  {
   "cell_type": "markdown",
   "id": "53b3d03b-3a90-4e2e-86d6-2ef38eb1e666",
   "metadata": {},
   "source": [
    "<h1 style=\"font-size:20px;\"><strong>Descriptive Analytics<strong></h1>"
   ]
  },
  {
   "cell_type": "code",
   "execution_count": 26,
   "id": "44c2983f-5ded-41a9-bcc9-fa7c9c7f055e",
   "metadata": {},
   "outputs": [
    {
     "data": {
      "text/html": [
       "<div>\n",
       "<style scoped>\n",
       "    .dataframe tbody tr th:only-of-type {\n",
       "        vertical-align: middle;\n",
       "    }\n",
       "\n",
       "    .dataframe tbody tr th {\n",
       "        vertical-align: top;\n",
       "    }\n",
       "\n",
       "    .dataframe thead th {\n",
       "        text-align: right;\n",
       "    }\n",
       "</style>\n",
       "<table border=\"1\" class=\"dataframe\">\n",
       "  <thead>\n",
       "    <tr style=\"text-align: right;\">\n",
       "      <th></th>\n",
       "      <th>rowid</th>\n",
       "      <th>bill_length_mm</th>\n",
       "      <th>bill_depth_mm</th>\n",
       "      <th>flipper_length_mm</th>\n",
       "      <th>body_mass_g</th>\n",
       "      <th>year</th>\n",
       "    </tr>\n",
       "  </thead>\n",
       "  <tbody>\n",
       "    <tr>\n",
       "      <th>count</th>\n",
       "      <td>344.000000</td>\n",
       "      <td>342.000000</td>\n",
       "      <td>342.000000</td>\n",
       "      <td>342.000000</td>\n",
       "      <td>342.000000</td>\n",
       "      <td>344.000000</td>\n",
       "    </tr>\n",
       "    <tr>\n",
       "      <th>mean</th>\n",
       "      <td>172.500000</td>\n",
       "      <td>43.921930</td>\n",
       "      <td>17.151170</td>\n",
       "      <td>200.915205</td>\n",
       "      <td>4201.754386</td>\n",
       "      <td>2008.029070</td>\n",
       "    </tr>\n",
       "    <tr>\n",
       "      <th>std</th>\n",
       "      <td>99.448479</td>\n",
       "      <td>5.459584</td>\n",
       "      <td>1.974793</td>\n",
       "      <td>14.061714</td>\n",
       "      <td>801.954536</td>\n",
       "      <td>0.818356</td>\n",
       "    </tr>\n",
       "    <tr>\n",
       "      <th>min</th>\n",
       "      <td>1.000000</td>\n",
       "      <td>32.100000</td>\n",
       "      <td>13.100000</td>\n",
       "      <td>172.000000</td>\n",
       "      <td>2700.000000</td>\n",
       "      <td>2007.000000</td>\n",
       "    </tr>\n",
       "    <tr>\n",
       "      <th>25%</th>\n",
       "      <td>86.750000</td>\n",
       "      <td>39.225000</td>\n",
       "      <td>15.600000</td>\n",
       "      <td>190.000000</td>\n",
       "      <td>3550.000000</td>\n",
       "      <td>2007.000000</td>\n",
       "    </tr>\n",
       "    <tr>\n",
       "      <th>50%</th>\n",
       "      <td>172.500000</td>\n",
       "      <td>44.450000</td>\n",
       "      <td>17.300000</td>\n",
       "      <td>197.000000</td>\n",
       "      <td>4050.000000</td>\n",
       "      <td>2008.000000</td>\n",
       "    </tr>\n",
       "    <tr>\n",
       "      <th>75%</th>\n",
       "      <td>258.250000</td>\n",
       "      <td>48.500000</td>\n",
       "      <td>18.700000</td>\n",
       "      <td>213.000000</td>\n",
       "      <td>4750.000000</td>\n",
       "      <td>2009.000000</td>\n",
       "    </tr>\n",
       "    <tr>\n",
       "      <th>max</th>\n",
       "      <td>344.000000</td>\n",
       "      <td>59.600000</td>\n",
       "      <td>21.500000</td>\n",
       "      <td>231.000000</td>\n",
       "      <td>6300.000000</td>\n",
       "      <td>2009.000000</td>\n",
       "    </tr>\n",
       "  </tbody>\n",
       "</table>\n",
       "</div>"
      ],
      "text/plain": [
       "            rowid  bill_length_mm  bill_depth_mm  flipper_length_mm  \\\n",
       "count  344.000000      342.000000     342.000000         342.000000   \n",
       "mean   172.500000       43.921930      17.151170         200.915205   \n",
       "std     99.448479        5.459584       1.974793          14.061714   \n",
       "min      1.000000       32.100000      13.100000         172.000000   \n",
       "25%     86.750000       39.225000      15.600000         190.000000   \n",
       "50%    172.500000       44.450000      17.300000         197.000000   \n",
       "75%    258.250000       48.500000      18.700000         213.000000   \n",
       "max    344.000000       59.600000      21.500000         231.000000   \n",
       "\n",
       "       body_mass_g         year  \n",
       "count   342.000000   344.000000  \n",
       "mean   4201.754386  2008.029070  \n",
       "std     801.954536     0.818356  \n",
       "min    2700.000000  2007.000000  \n",
       "25%    3550.000000  2007.000000  \n",
       "50%    4050.000000  2008.000000  \n",
       "75%    4750.000000  2009.000000  \n",
       "max    6300.000000  2009.000000  "
      ]
     },
     "execution_count": 26,
     "metadata": {},
     "output_type": "execute_result"
    }
   ],
   "source": [
    "data.describe()"
   ]
  },
  {
   "cell_type": "code",
   "execution_count": 27,
   "id": "588b0833-f782-4f5e-bd97-12ebb991e84c",
   "metadata": {},
   "outputs": [
    {
     "data": {
      "text/html": [
       "<div>\n",
       "<style scoped>\n",
       "    .dataframe tbody tr th:only-of-type {\n",
       "        vertical-align: middle;\n",
       "    }\n",
       "\n",
       "    .dataframe tbody tr th {\n",
       "        vertical-align: top;\n",
       "    }\n",
       "\n",
       "    .dataframe thead th {\n",
       "        text-align: right;\n",
       "    }\n",
       "</style>\n",
       "<table border=\"1\" class=\"dataframe\">\n",
       "  <thead>\n",
       "    <tr style=\"text-align: right;\">\n",
       "      <th></th>\n",
       "      <th>count</th>\n",
       "      <th>mean</th>\n",
       "      <th>std</th>\n",
       "      <th>min</th>\n",
       "      <th>25%</th>\n",
       "      <th>50%</th>\n",
       "      <th>75%</th>\n",
       "      <th>max</th>\n",
       "    </tr>\n",
       "  </thead>\n",
       "  <tbody>\n",
       "    <tr>\n",
       "      <th>rowid</th>\n",
       "      <td>344.0</td>\n",
       "      <td>172.500000</td>\n",
       "      <td>99.448479</td>\n",
       "      <td>1.0</td>\n",
       "      <td>86.750</td>\n",
       "      <td>172.50</td>\n",
       "      <td>258.25</td>\n",
       "      <td>344.0</td>\n",
       "    </tr>\n",
       "    <tr>\n",
       "      <th>bill_length_mm</th>\n",
       "      <td>342.0</td>\n",
       "      <td>43.921930</td>\n",
       "      <td>5.459584</td>\n",
       "      <td>32.1</td>\n",
       "      <td>39.225</td>\n",
       "      <td>44.45</td>\n",
       "      <td>48.50</td>\n",
       "      <td>59.6</td>\n",
       "    </tr>\n",
       "    <tr>\n",
       "      <th>bill_depth_mm</th>\n",
       "      <td>342.0</td>\n",
       "      <td>17.151170</td>\n",
       "      <td>1.974793</td>\n",
       "      <td>13.1</td>\n",
       "      <td>15.600</td>\n",
       "      <td>17.30</td>\n",
       "      <td>18.70</td>\n",
       "      <td>21.5</td>\n",
       "    </tr>\n",
       "    <tr>\n",
       "      <th>flipper_length_mm</th>\n",
       "      <td>342.0</td>\n",
       "      <td>200.915205</td>\n",
       "      <td>14.061714</td>\n",
       "      <td>172.0</td>\n",
       "      <td>190.000</td>\n",
       "      <td>197.00</td>\n",
       "      <td>213.00</td>\n",
       "      <td>231.0</td>\n",
       "    </tr>\n",
       "    <tr>\n",
       "      <th>body_mass_g</th>\n",
       "      <td>342.0</td>\n",
       "      <td>4201.754386</td>\n",
       "      <td>801.954536</td>\n",
       "      <td>2700.0</td>\n",
       "      <td>3550.000</td>\n",
       "      <td>4050.00</td>\n",
       "      <td>4750.00</td>\n",
       "      <td>6300.0</td>\n",
       "    </tr>\n",
       "    <tr>\n",
       "      <th>year</th>\n",
       "      <td>344.0</td>\n",
       "      <td>2008.029070</td>\n",
       "      <td>0.818356</td>\n",
       "      <td>2007.0</td>\n",
       "      <td>2007.000</td>\n",
       "      <td>2008.00</td>\n",
       "      <td>2009.00</td>\n",
       "      <td>2009.0</td>\n",
       "    </tr>\n",
       "  </tbody>\n",
       "</table>\n",
       "</div>"
      ],
      "text/plain": [
       "                   count         mean         std     min       25%      50%  \\\n",
       "rowid              344.0   172.500000   99.448479     1.0    86.750   172.50   \n",
       "bill_length_mm     342.0    43.921930    5.459584    32.1    39.225    44.45   \n",
       "bill_depth_mm      342.0    17.151170    1.974793    13.1    15.600    17.30   \n",
       "flipper_length_mm  342.0   200.915205   14.061714   172.0   190.000   197.00   \n",
       "body_mass_g        342.0  4201.754386  801.954536  2700.0  3550.000  4050.00   \n",
       "year               344.0  2008.029070    0.818356  2007.0  2007.000  2008.00   \n",
       "\n",
       "                       75%     max  \n",
       "rowid               258.25   344.0  \n",
       "bill_length_mm       48.50    59.6  \n",
       "bill_depth_mm        18.70    21.5  \n",
       "flipper_length_mm   213.00   231.0  \n",
       "body_mass_g        4750.00  6300.0  \n",
       "year               2009.00  2009.0  "
      ]
     },
     "execution_count": 27,
     "metadata": {},
     "output_type": "execute_result"
    }
   ],
   "source": [
    "data.describe().T"
   ]
  },
  {
   "cell_type": "markdown",
   "id": "b2fd018e-889d-48f0-b3f1-326aa6e4efaa",
   "metadata": {},
   "source": [
    "<strong> Questions: <strong>\n"
   ]
  },
  {
   "cell_type": "markdown",
   "id": "f2d311de-dcda-423f-a667-671b4de9dec5",
   "metadata": {},
   "source": [
    "1. How many missing values are in each column?\n",
    "2. Which column has the highest number of missing values?\n",
    "3. What is the average body of mass penguins grouped by species?\n",
    "4. What is the average flipper length grouped by island?\n",
    "5. What is the correlation between bill length and flipper length?\n",
    "6. What is the correlation between bill length and body mass for Adelie penguins?\n",
    "7. Compare the average bill depth between male and female penguins\n",
    "8. Which species has the highest number of missing values in the sex column?\n",
    "9. Compare bill length vs bill depth correlation in Adelie vs Chinstrap\n",
    "10. Is bill depth vs flipper length correlation higher in Gentoo or Chinstrap?\n",
    "11. Do Gentoo penguins have a positive or negative correlation between flipper length and body mass?\n",
    "12. What is the average flipper length and body mass for each species on each island?"
   ]
  },
  {
   "cell_type": "markdown",
   "id": "94669e1f-83f6-4458-af47-d4d457b76f55",
   "metadata": {},
   "source": [
    "<h1 style=\"font-size:20px;\"><strong>1. How many missing values are in each column?<strong></h1>"
   ]
  },
  {
   "cell_type": "code",
   "execution_count": 28,
   "id": "f65f64ee-d49a-4859-9046-f408153ef82b",
   "metadata": {},
   "outputs": [
    {
     "data": {
      "text/plain": [
       "rowid                 0\n",
       "species               0\n",
       "island                0\n",
       "bill_length_mm        2\n",
       "bill_depth_mm         2\n",
       "flipper_length_mm     2\n",
       "body_mass_g           2\n",
       "sex                  11\n",
       "year                  0\n",
       "dtype: int64"
      ]
     },
     "execution_count": 28,
     "metadata": {},
     "output_type": "execute_result"
    }
   ],
   "source": [
    "data.isnull().sum()"
   ]
  },
  {
   "cell_type": "markdown",
   "id": "abc37075-f0ec-43c8-bfb7-7709e5e2e724",
   "metadata": {},
   "source": [
    "<strong>Insight: Most columns have few or no missing values, but sex has the most missing data.\n"
   ]
  },
  {
   "cell_type": "markdown",
   "id": "e745a763-3fd4-40b0-800d-746dcbb91446",
   "metadata": {},
   "source": [
    "<h1 style=\"font-size:20px;\"><strong>2. Which column has the highest number of missing values?</h1>"
   ]
  },
  {
   "cell_type": "code",
   "execution_count": 29,
   "id": "c3eaac9e-6a6a-4ef3-aa1b-134bfe0b2f81",
   "metadata": {},
   "outputs": [
    {
     "data": {
      "text/plain": [
       "sex                  11\n",
       "body_mass_g           2\n",
       "bill_depth_mm         2\n",
       "flipper_length_mm     2\n",
       "bill_length_mm        2\n",
       "dtype: int64"
      ]
     },
     "execution_count": 29,
     "metadata": {},
     "output_type": "execute_result"
    }
   ],
   "source": [
    "data.isnull().sum().sort_values(ascending=False).head()"
   ]
  },
  {
   "cell_type": "markdown",
   "id": "db176605-a8ac-4d95-bda9-73251aa0ca79",
   "metadata": {},
   "source": [
    "<strong>Insight: Sex column is the one with the highest number of missing values"
   ]
  },
  {
   "cell_type": "markdown",
   "id": "202803f5-96ad-4c3d-95c5-3bb4f880092a",
   "metadata": {},
   "source": [
    "<h1 style=\"font-size:20px;\"><strong>3. What is the average body of mass penguins grouped by species?</h1>"
   ]
  },
  {
   "cell_type": "code",
   "execution_count": 30,
   "id": "f8ed8ba2-54c7-484a-a788-58c85d5d8d69",
   "metadata": {},
   "outputs": [
    {
     "data": {
      "text/plain": [
       "species\n",
       "Adelie       3700.662252\n",
       "Chinstrap    3733.088235\n",
       "Gentoo       5076.016260\n",
       "Name: body_mass_g, dtype: float64"
      ]
     },
     "execution_count": 30,
     "metadata": {},
     "output_type": "execute_result"
    }
   ],
   "source": [
    "data.groupby('species')['body_mass_g'].mean()\n"
   ]
  },
  {
   "cell_type": "markdown",
   "id": "200f9940-e62f-46eb-8d67-8021930591ad",
   "metadata": {},
   "source": [
    "<strong>Insight: Gentoo penguins are the heaviest on average, while Adelie and Chinstrap are lighter"
   ]
  },
  {
   "cell_type": "markdown",
   "id": "ba8db934-6318-4bea-b5f9-9fd69c648c8d",
   "metadata": {},
   "source": [
    "<h1 style=\"font-size:20px;\"><strong> 4. What is the average flipper length grouped by island? </h1>"
   ]
  },
  {
   "cell_type": "code",
   "execution_count": 31,
   "id": "8357beab-8e28-4a49-b533-9f75c9dec5ab",
   "metadata": {},
   "outputs": [
    {
     "data": {
      "text/plain": [
       "island\n",
       "Biscoe       209.706587\n",
       "Dream        193.072581\n",
       "Torgersen    191.196078\n",
       "Name: flipper_length_mm, dtype: float64"
      ]
     },
     "execution_count": 31,
     "metadata": {},
     "output_type": "execute_result"
    }
   ],
   "source": [
    "data.groupby('island')['flipper_length_mm'].mean()\n"
   ]
  },
  {
   "cell_type": "markdown",
   "id": "879283ec-e833-4040-ac6c-aab3392ab3bd",
   "metadata": {},
   "source": [
    "<strong> Insight: Flipper length is longest on Biscoe, medium on Dream, and shortest on Torgersen"
   ]
  },
  {
   "cell_type": "markdown",
   "id": "79d987fd-d893-41e8-8a81-6dc687e917bd",
   "metadata": {},
   "source": [
    "<h1 style=\"font-size:20px;\"><strong>5. What is the correlation between bill length and flipper length?</h1>"
   ]
  },
  {
   "cell_type": "code",
   "execution_count": 32,
   "id": "45cc02c3-6ce8-489f-be68-87e73a673a71",
   "metadata": {},
   "outputs": [
    {
     "data": {
      "text/plain": [
       "np.float64(0.6561813407464278)"
      ]
     },
     "execution_count": 32,
     "metadata": {},
     "output_type": "execute_result"
    }
   ],
   "source": [
    "data['bill_length_mm'].corr(data['flipper_length_mm'])\n"
   ]
  },
  {
   "cell_type": "markdown",
   "id": "a7a27b9f-d8c0-4a6e-9939-c483097ce5e2",
   "metadata": {},
   "source": [
    "<strong>Insight: Bill length and flipper length have a slight positive correlation."
   ]
  },
  {
   "cell_type": "markdown",
   "id": "f34562e8-e644-4ab7-a9c9-a0eb29a19c27",
   "metadata": {},
   "source": [
    "<h1 style=\"font-size:20px;\"><strong><h1 style=\"font-size:20px;\"><strong>6. What is the correlation between bill length and body mass for Adelie penguins?</h1></h1>"
   ]
  },
  {
   "cell_type": "code",
   "execution_count": 33,
   "id": "31a4f3ac-1598-415e-a0a0-6aa7e267a331",
   "metadata": {},
   "outputs": [
    {
     "data": {
      "text/plain": [
       "np.float64(0.5488658064533206)"
      ]
     },
     "execution_count": 33,
     "metadata": {},
     "output_type": "execute_result"
    }
   ],
   "source": [
    "adelie = data[data['species'] == 'Adelie']\n",
    "adelie['bill_length_mm'].corr(adelie['body_mass_g'])\n"
   ]
  },
  {
   "cell_type": "markdown",
   "id": "b7cce88f-e208-4271-bc2d-6e1f232ff3ac",
   "metadata": {},
   "source": [
    "<strong>Insight; For Adelie penguins, bill length barely correlates with body mass."
   ]
  },
  {
   "cell_type": "markdown",
   "id": "6a92c277-986a-4133-811d-0299f6114293",
   "metadata": {},
   "source": [
    "<h1 style=\"font-size:20px;\"><strong>7. Compare the average bill depth between male and female penguins<strong></h1>"
   ]
  },
  {
   "cell_type": "code",
   "execution_count": 34,
   "id": "7c5b73bc-154b-4493-befe-b07afd5f582f",
   "metadata": {},
   "outputs": [
    {
     "data": {
      "text/plain": [
       "sex\n",
       "female    16.425455\n",
       "male      17.891071\n",
       "Name: bill_depth_mm, dtype: float64"
      ]
     },
     "execution_count": 34,
     "metadata": {},
     "output_type": "execute_result"
    }
   ],
   "source": [
    "data.groupby('sex')['bill_depth_mm'].mean()\n"
   ]
  },
  {
   "cell_type": "markdown",
   "id": "897aadfb-791b-4c0d-a0a2-549e7d7abbb3",
   "metadata": {},
   "source": [
    "<strong>Insight: Male penguins tend to have slightly deeper bills than females."
   ]
  },
  {
   "cell_type": "markdown",
   "id": "d16daaba-68dd-4b27-bc43-0f593f668c39",
   "metadata": {},
   "source": [
    "<h1 style=\"font-size:20px;\"><strong>8. Which species has the highest number of missing values in the sex column?<strong></h1>"
   ]
  },
  {
   "cell_type": "code",
   "execution_count": 35,
   "id": "22c557cd-78f7-4ff3-9187-01fd682bfcf7",
   "metadata": {},
   "outputs": [
    {
     "data": {
      "text/plain": [
       "species\n",
       "Adelie    6\n",
       "Gentoo    5\n",
       "dtype: int64"
      ]
     },
     "execution_count": 35,
     "metadata": {},
     "output_type": "execute_result"
    }
   ],
   "source": [
    "data[data['sex'].isnull()].groupby('species').size().sort_values(ascending=False)\n"
   ]
  },
  {
   "cell_type": "markdown",
   "id": "990f653a-1ac1-4cd2-ae44-1a881716b0f2",
   "metadata": {},
   "source": [
    "<strong>Insight: Adelie  have the most missing values in the sex column."
   ]
  },
  {
   "cell_type": "markdown",
   "id": "80d75d61-6978-491e-99e6-514f505d42d7",
   "metadata": {},
   "source": [
    "<h1 style=\"font-size:20px;\"><strong>9. Compare bill length vs bill depth correlation in Adelie vs Chinstrap <strong></h1>"
   ]
  },
  {
   "cell_type": "code",
   "execution_count": 36,
   "id": "7406a1e7-e585-42b6-8265-7b882c0a6cc1",
   "metadata": {},
   "outputs": [
    {
     "data": {
      "text/plain": [
       "(np.float64(0.39149169183587657), np.float64(0.6535362081800429))"
      ]
     },
     "execution_count": 36,
     "metadata": {},
     "output_type": "execute_result"
    }
   ],
   "source": [
    "adelie = data[data['species'] == 'Adelie']\n",
    "chinstrap = data[data['species'] == 'Chinstrap']\n",
    "\n",
    "adelie_corr    = adelie['bill_length_mm'].corr(adelie['bill_depth_mm'])\n",
    "chinstrap_corr = chinstrap['bill_length_mm'].corr(chinstrap['bill_depth_mm'])\n",
    "\n",
    "adelie_corr, chinstrap_corr\n"
   ]
  },
  {
   "cell_type": "markdown",
   "id": "912378a1-4863-4071-9e14-27751e13d2d7",
   "metadata": {},
   "source": [
    "<strong>Insight: Chinstrap penguins show a stronger positive correlation between bill length and depth than Adelie."
   ]
  },
  {
   "cell_type": "markdown",
   "id": "80e7ca9e-8b5a-42b1-9887-4b4fafe1441b",
   "metadata": {},
   "source": [
    " <h1 style=\"font-size:20px;\"><strong>10. Is bill depth vs flipper length correlation higher in Gentoo or Chinstrap?<strong></h1>"
   ]
  },
  {
   "cell_type": "code",
   "execution_count": 37,
   "id": "01ff4520-b188-475f-a8f6-7a7852e44569",
   "metadata": {},
   "outputs": [
    {
     "data": {
      "text/plain": [
       "(np.float64(0.7065634484678054), np.float64(0.5801428793349277))"
      ]
     },
     "execution_count": 37,
     "metadata": {},
     "output_type": "execute_result"
    }
   ],
   "source": [
    "gentoo_corr = data[data['species'] == 'Gentoo']['bill_depth_mm'].corr(data[data['species'] == 'Gentoo']['flipper_length_mm'])\n",
    "chinstrap_corr = data[data['species'] == 'Chinstrap']['bill_depth_mm'].corr(data[data['species'] == 'Chinstrap']['flipper_length_mm'])\n",
    "gentoo_corr, chinstrap_corr\n"
   ]
  },
  {
   "cell_type": "markdown",
   "id": "0a63b1d4-988d-41a2-9db0-f8ab42b2f814",
   "metadata": {},
   "source": [
    "<strong>Insight: Bill depth vs flipper length correlation is higher in Gentoo than in Chinstrap."
   ]
  },
  {
   "cell_type": "markdown",
   "id": "31d52e92-7f3c-4282-995a-b0a8e4880265",
   "metadata": {},
   "source": [
    " <h1 style=\"font-size:20px;\"><strong>11. Do Gentoo penguins have a positive or negative correlation between flipper length and body mass? <strong></h1>"
   ]
  },
  {
   "cell_type": "code",
   "execution_count": 38,
   "id": "25ba1e32-d54a-4328-b4d4-809c84199b41",
   "metadata": {},
   "outputs": [
    {
     "data": {
      "text/plain": [
       "np.float64(0.7026665243575183)"
      ]
     },
     "execution_count": 38,
     "metadata": {},
     "output_type": "execute_result"
    }
   ],
   "source": [
    "gentoo = data[data['species'] == 'Gentoo']\n",
    "gentoo['flipper_length_mm'].corr(gentoo['body_mass_g'])\n"
   ]
  },
  {
   "cell_type": "markdown",
   "id": "6edb9795-3702-4f2f-a8ac-65ff4d0c9128",
   "metadata": {},
   "source": [
    "<strong>Insight: Gentoo penguins show a strong positive correlation between flipper length and body mass."
   ]
  },
  {
   "cell_type": "markdown",
   "id": "d8691c10-8f01-4cec-9880-4d92262a6407",
   "metadata": {},
   "source": [
    " <h1 style=\"font-size:20px;\"><strong>What is the average flipper length and body mass for each species on each island?<strong></h1>"
   ]
  },
  {
   "cell_type": "code",
   "execution_count": 39,
   "id": "d7906c57-0470-4306-a69c-865650224ecd",
   "metadata": {},
   "outputs": [
    {
     "data": {
      "text/html": [
       "<div>\n",
       "<style scoped>\n",
       "    .dataframe tbody tr th:only-of-type {\n",
       "        vertical-align: middle;\n",
       "    }\n",
       "\n",
       "    .dataframe tbody tr th {\n",
       "        vertical-align: top;\n",
       "    }\n",
       "\n",
       "    .dataframe thead th {\n",
       "        text-align: right;\n",
       "    }\n",
       "</style>\n",
       "<table border=\"1\" class=\"dataframe\">\n",
       "  <thead>\n",
       "    <tr style=\"text-align: right;\">\n",
       "      <th></th>\n",
       "      <th></th>\n",
       "      <th>flipper_length_mm</th>\n",
       "      <th>body_mass_g</th>\n",
       "    </tr>\n",
       "    <tr>\n",
       "      <th>island</th>\n",
       "      <th>species</th>\n",
       "      <th></th>\n",
       "      <th></th>\n",
       "    </tr>\n",
       "  </thead>\n",
       "  <tbody>\n",
       "    <tr>\n",
       "      <th rowspan=\"2\" valign=\"top\">Biscoe</th>\n",
       "      <th>Adelie</th>\n",
       "      <td>188.795455</td>\n",
       "      <td>3709.659091</td>\n",
       "    </tr>\n",
       "    <tr>\n",
       "      <th>Gentoo</th>\n",
       "      <td>217.186992</td>\n",
       "      <td>5076.016260</td>\n",
       "    </tr>\n",
       "    <tr>\n",
       "      <th rowspan=\"2\" valign=\"top\">Dream</th>\n",
       "      <th>Adelie</th>\n",
       "      <td>189.732143</td>\n",
       "      <td>3688.392857</td>\n",
       "    </tr>\n",
       "    <tr>\n",
       "      <th>Chinstrap</th>\n",
       "      <td>195.823529</td>\n",
       "      <td>3733.088235</td>\n",
       "    </tr>\n",
       "    <tr>\n",
       "      <th>Torgersen</th>\n",
       "      <th>Adelie</th>\n",
       "      <td>191.196078</td>\n",
       "      <td>3706.372549</td>\n",
       "    </tr>\n",
       "  </tbody>\n",
       "</table>\n",
       "</div>"
      ],
      "text/plain": [
       "                     flipper_length_mm  body_mass_g\n",
       "island    species                                  \n",
       "Biscoe    Adelie            188.795455  3709.659091\n",
       "          Gentoo            217.186992  5076.016260\n",
       "Dream     Adelie            189.732143  3688.392857\n",
       "          Chinstrap         195.823529  3733.088235\n",
       "Torgersen Adelie            191.196078  3706.372549"
      ]
     },
     "execution_count": 39,
     "metadata": {},
     "output_type": "execute_result"
    }
   ],
   "source": [
    "data.groupby(['island', 'species'])[['flipper_length_mm', 'body_mass_g']].mean()\n"
   ]
  },
  {
   "cell_type": "markdown",
   "id": "2c9a1fa2-10b3-4edd-bb83-c1d253c0e1db",
   "metadata": {},
   "source": [
    "<strong>Insight: Flipper length and body weight are different for each species and island. Gentoo always have longer flippers and are heavier."
   ]
  }
 ],
 "metadata": {
  "kernelspec": {
   "display_name": "Python 3 (ipykernel)",
   "language": "python",
   "name": "python3"
  },
  "language_info": {
   "codemirror_mode": {
    "name": "ipython",
    "version": 3
   },
   "file_extension": ".py",
   "mimetype": "text/x-python",
   "name": "python",
   "nbconvert_exporter": "python",
   "pygments_lexer": "ipython3",
   "version": "3.12.10"
  }
 },
 "nbformat": 4,
 "nbformat_minor": 5
}
